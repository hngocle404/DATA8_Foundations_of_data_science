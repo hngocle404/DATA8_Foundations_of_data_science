{
 "cells": [
  {
   "cell_type": "markdown",
   "metadata": {},
   "source": [
    "# 17. Multiple regression"
   ]
  },
  {
   "cell_type": "markdown",
   "metadata": {},
   "source": [
    "Essentially we'll be predicting house prices using 2 methods:\n",
    "\n",
    "1. MULTIPLE LINEAR REGRESSION\n",
    "\n",
    "This method involves creating a formula (linear regression) to predict the sale price of houses using multiple factors (attributes) such as the size of the first floor, second floor, garage area, etc.\n",
    "\n",
    "2. NEAREST NEIGHBOURS FOR REGRESSION\n",
    "\n",
    "An alternative approach where instead of using a formula, we predict the price of a house by looking at the prices of houses that are similar to it."
   ]
  },
  {
   "cell_type": "code",
   "execution_count": 1,
   "metadata": {},
   "outputs": [
    {
     "data": {
      "image/png": "[encoded data removed]",
      "text/html": [
       "<div style=\"vertical-align: middle;\"><strong>viridis</strong> </div><div class=\"cmap\"><img alt=\"viridis colormap\" title=\"viridis\" style=\"border: 1px solid #555;\" src=\"data:image/png;base64,iVBORw0KGgoAAAANSUhEUgAAAgAAAABACAYAAABsv8+/AAAAFnRFWHRUaXRsZQB2aXJpZGlzIGNvbG9ybWFwrE0mCwAAABx0RVh0RGVzY3JpcHRpb24AdmlyaWRpcyBjb2xvcm1hcAtjl3IAAAAwdEVYdEF1dGhvcgBNYXRwbG90bGliIHYzLjguMiwgaHR0cHM6Ly9tYXRwbG90bGliLm9yZw8V3hIAAAAydEVYdFNvZnR3YXJlAE1hdHBsb3RsaWIgdjMuOC4yLCBodHRwczovL21hdHBsb3RsaWIub3JnIbNBNQAAAiJJREFUeJzt1kGSmzAURdEv2FqWkP0vJfQgMhQCGceV2Ttn4pL0EVQPum771X5vVVXVWv39XfrPeV193V5zS98f1sf5/fPjey73zu6/3Hv/uz2cz57f9vP68rxO9+/zre7nhvvG+et6vH92bw3PDfcsD+eX59+/53n96f3362/f87/vf5yr93Of72/fPV9P89tX3zGeH3OT8/07Zs+/32+TuXZZD8/VODf8W5uuH/b7vctlfuv7NazH8/t7ZnP7bz2cD3NL+/Ph3Hl+/efz83vWun/vuL++nquH9eu9w/uu6/vvOO49f/8xf77vOj+8b7Y/fMfse9ca/y7nv+d62a++X+f1vt+G/b7u+/u6TxzzS//tc2053QMABBEAABBIAABAIAEAAIEEAAAEEgAAEEgAAEAgAQAAgQQAAAQSAAAQSAAAQCABAACBBAAABBIAABBIAABAIAEAAIEEAAAEEgAAEEgAAEAgAQAAgQQAAAQSAAAQSAAAQCABAACBBAAABBIAABBIAABAIAEAAIEEAAAEEgAAEEgAAEAgAQAAgQQAAAQSAAAQSAAAQCABAACBBAAABBIAABBIAABAIAEAAIEEAAAEEgAAEEgAAEAgAQAAgQQAAAQSAAAQSAAAQCABAACBBAAABBIAABBIAABAIAEAAIEEAAAEEgAAEEgAAEAgAQAAgQQAAAQSAAAQSAAAQCABAACBBAAABBIAABBIAABAoB9ucImHxcKZtAAAAABJRU5ErkJggg==\"></div><div style=\"vertical-align: middle; max-width: 514px; display: flex; justify-content: space-between;\"><div style=\"float: left;\"><div title=\"#440154ff\" style=\"display: inline-block; width: 1em; height: 1em; margin: 0; vertical-align: middle; border: 1px solid #555; background-color: #440154ff;\"></div> under</div><div style=\"margin: 0 auto; display: inline-block;\">bad <div title=\"#00000000\" style=\"display: inline-block; width: 1em; height: 1em; margin: 0; vertical-align: middle; border: 1px solid #555; background-color: #00000000;\"></div></div><div style=\"float: right;\">over <div title=\"#fde725ff\" style=\"display: inline-block; width: 1em; height: 1em; margin: 0; vertical-align: middle; border: 1px solid #555; background-color: #fde725ff;\"></div></div>"
      ],
      "text/plain": [
       "<matplotlib.colors.ListedColormap at 0x25578460f80>"
      ]
     },
     "execution_count": 1,
     "metadata": {},
     "output_type": "execute_result"
    }
   ],
   "source": [
    "# Import necessary libraries\n",
    "import numpy as np\n",
    "import pandas as pd\n",
    "import seaborn as sns\n",
    "from IPython.display import display\n",
    "import matplotlib.pyplot as plt\n",
    "\n",
    "# Ignore warnings\n",
    "import warnings\n",
    "warnings.filterwarnings(\"ignore\")\n",
    "\n",
    "# Import libraries for regression\n",
    "import statsmodels.formula.api as smf\n",
    "\n",
    "# Set style for seaborn plots\n",
    "sns.set_style('dark')\n",
    "sns.color_palette(\"viridis\", as_cmap=True)"
   ]
  },
  {
   "cell_type": "code",
   "execution_count": 2,
   "metadata": {},
   "outputs": [
    {
     "data": {
      "text/html": [
       "<div>\n",
       "<style scoped>\n",
       "    .dataframe tbody tr th:only-of-type {\n",
       "        vertical-align: middle;\n",
       "    }\n",
       "\n",
       "    .dataframe tbody tr th {\n",
       "        vertical-align: top;\n",
       "    }\n",
       "\n",
       "    .dataframe thead th {\n",
       "        text-align: right;\n",
       "    }\n",
       "</style>\n",
       "<table border=\"1\" class=\"dataframe\">\n",
       "  <thead>\n",
       "    <tr style=\"text-align: right;\">\n",
       "      <th></th>\n",
       "      <th>sale_price</th>\n",
       "      <th>1st_flr</th>\n",
       "      <th>2nd_flr</th>\n",
       "      <th>bsmt</th>\n",
       "      <th>garage</th>\n",
       "      <th>wood_deck</th>\n",
       "      <th>open_porch</th>\n",
       "      <th>lot</th>\n",
       "      <th>year_built</th>\n",
       "      <th>year_sold</th>\n",
       "    </tr>\n",
       "  </thead>\n",
       "  <tbody>\n",
       "    <tr>\n",
       "      <th>0</th>\n",
       "      <td>215000</td>\n",
       "      <td>1656</td>\n",
       "      <td>0</td>\n",
       "      <td>1080.0</td>\n",
       "      <td>528.0</td>\n",
       "      <td>210</td>\n",
       "      <td>62</td>\n",
       "      <td>31770</td>\n",
       "      <td>1960</td>\n",
       "      <td>2010</td>\n",
       "    </tr>\n",
       "  </tbody>\n",
       "</table>\n",
       "</div>"
      ],
      "text/plain": [
       "   sale_price  1st_flr  2nd_flr    bsmt  garage  wood_deck  open_porch    lot  \\\n",
       "0      215000     1656        0  1080.0   528.0        210          62  31770   \n",
       "\n",
       "   year_built  year_sold  \n",
       "0        1960       2010  "
      ]
     },
     "execution_count": 2,
     "metadata": {},
     "output_type": "execute_result"
    }
   ],
   "source": [
    "house = pd.read_csv('house.csv')\n",
    "house = house.rename(columns={\n",
    "    'SalePrice': 'sale_price',\n",
    "    '1st Flr SF': '1st_flr',\n",
    "    '2nd Flr SF': '2nd_flr',\n",
    "    'Total Bsmt SF': 'bsmt',\n",
    "    'Garage Area': 'garage',\n",
    "    'Wood Deck SF': 'wood_deck',\n",
    "    'Open Porch SF': 'open_porch',\n",
    "    'Lot Area': 'lot',\n",
    "    'Year Built': 'year_built',\n",
    "    'Yr Sold': 'year_sold'\n",
    "})\n",
    "house = house[['sale_price', '1st_flr', '2nd_flr', 'bsmt', 'garage', 'wood_deck', 'open_porch', 'lot', 'year_built', 'year_sold']]\n",
    "house.head(1)"
   ]
  },
  {
   "cell_type": "markdown",
   "metadata": {},
   "source": [
    "A histogram of sale prices shows a large amount of variability and a distribution that is clearly not normal. A long tail to the right contains a few houses that had very high prices. The short left tail does not contain any houses that sold for less than $35,000."
   ]
  },
  {
   "cell_type": "code",
   "execution_count": 3,
   "metadata": {},
   "outputs": [
    {
     "data": {
      "text/plain": [
       "<Axes: xlabel='sale_price', ylabel='Count'>"
      ]
     },
     "execution_count": 3,
     "metadata": {},
     "output_type": "execute_result"
    },
    {
     "data": {
      "image/png": "[encoded data removed]",
      "text/plain": [
       "<Figure size 300x300 with 1 Axes>"
      ]
     },
     "metadata": {},
     "output_type": "display_data"
    }
   ],
   "source": [
    "plt.figure(figsize = (3, 3))\n",
    "sns.histplot(data = house,\n",
    "             x = 'sale_price')"
   ]
  },
  {
   "cell_type": "code",
   "execution_count": null,
   "metadata": {},
   "outputs": [],
   "source": [
    "plt.figure(figsize = (3, 3))\n",
    "sns.histplot(data = house,\n",
    "    kdfkdfkhd"
   ]
  },
  {
   "cell_type": "markdown",
   "metadata": {},
   "source": [
    "## Correlation"
   ]
  },
  {
   "cell_type": "code",
   "execution_count": 4,
   "metadata": {},
   "outputs": [
    {
     "data": {
      "text/html": [
       "<div>\n",
       "<style scoped>\n",
       "    .dataframe tbody tr th:only-of-type {\n",
       "        vertical-align: middle;\n",
       "    }\n",
       "\n",
       "    .dataframe tbody tr th {\n",
       "        vertical-align: top;\n",
       "    }\n",
       "\n",
       "    .dataframe thead th {\n",
       "        text-align: right;\n",
       "    }\n",
       "</style>\n",
       "<table border=\"1\" class=\"dataframe\">\n",
       "  <thead>\n",
       "    <tr style=\"text-align: right;\">\n",
       "      <th></th>\n",
       "      <th>sale_price</th>\n",
       "      <th>1st_flr</th>\n",
       "      <th>2nd_flr</th>\n",
       "      <th>bsmt</th>\n",
       "      <th>garage</th>\n",
       "      <th>wood_deck</th>\n",
       "      <th>open_porch</th>\n",
       "      <th>lot</th>\n",
       "      <th>year_built</th>\n",
       "      <th>year_sold</th>\n",
       "    </tr>\n",
       "  </thead>\n",
       "  <tbody>\n",
       "    <tr>\n",
       "      <th>sale_price</th>\n",
       "      <td>1.0</td>\n",
       "      <td>0.6217</td>\n",
       "      <td>0.2694</td>\n",
       "      <td>0.6323</td>\n",
       "      <td>0.6404</td>\n",
       "      <td>0.3271</td>\n",
       "      <td>0.313</td>\n",
       "      <td>0.2665</td>\n",
       "      <td>0.5584</td>\n",
       "      <td>-0.0306</td>\n",
       "    </tr>\n",
       "  </tbody>\n",
       "</table>\n",
       "</div>"
      ],
      "text/plain": [
       "            sale_price  1st_flr  2nd_flr    bsmt  garage  wood_deck  \\\n",
       "sale_price         1.0   0.6217   0.2694  0.6323  0.6404     0.3271   \n",
       "\n",
       "            open_porch     lot  year_built  year_sold  \n",
       "sale_price       0.313  0.2665      0.5584    -0.0306  "
      ]
     },
     "execution_count": 4,
     "metadata": {},
     "output_type": "execute_result"
    }
   ],
   "source": [
    "house.corr().head(1).round(4)"
   ]
  },
  {
   "cell_type": "markdown",
   "metadata": {},
   "source": [
    "However, combining attributes can provide higher correlation. In particular, if we sum the first floor and second floor areas, the result has a higher correlation than any single attribute alone."
   ]
  },
  {
   "cell_type": "markdown",
   "metadata": {},
   "source": [
    "## Generating a test set"
   ]
  },
  {
   "cell_type": "code",
   "execution_count": 5,
   "metadata": {},
   "outputs": [],
   "source": [
    "house_shuffled = house.sample(frac = 1, replace = False)\n",
    "split_index = len(house_shuffled) // 2\n",
    "training_set = house_shuffled[:split_index]\n",
    "testing_set = house_shuffled[split_index:]"
   ]
  },
  {
   "cell_type": "markdown",
   "metadata": {},
   "source": [
    "## Multiple linear regression"
   ]
  },
  {
   "cell_type": "markdown",
   "metadata": {},
   "source": [
    "### 1. Understanding how slopes = weights & their affects on predicted y"
   ]
  },
  {
   "cell_type": "code",
   "execution_count": 6,
   "metadata": {},
   "outputs": [],
   "source": [
    "# Assuming 'sale_price' is the correct column name, but make sure to check the actual column names in your DataFrame.\n",
    "example_row = house.drop(['sale_price'], axis=1).iloc[0]\n"
   ]
  },
  {
   "cell_type": "code",
   "execution_count": 7,
   "metadata": {},
   "outputs": [
    {
     "name": "stdout",
     "output_type": "stream",
     "text": [
      "Using slopes: [ 9.77581339  9.34694567  9.5111019  11.45980413 11.27927041  9.70169537\n",
      "  9.46341875 10.62225996  8.62286476]\n"
     ]
    }
   ],
   "source": [
    "example_slopes = np.random.normal(10, 1, len(example_row))\n",
    "print('Using slopes:', example_slopes)"
   ]
  },
  {
   "cell_type": "code",
   "execution_count": 8,
   "metadata": {},
   "outputs": [],
   "source": [
    "def predict(slopes, row):\n",
    "    return sum(slopes * np.array(row))"
   ]
  },
  {
   "cell_type": "markdown",
   "metadata": {},
   "source": [
    "The predict function takes these slopes and multiplies them by the corresponding attribute values in example_row. The sum of these products gives the estimated sale price."
   ]
  },
  {
   "cell_type": "code",
   "execution_count": 9,
   "metadata": {},
   "outputs": [
    {
     "name": "stdout",
     "output_type": "stream",
     "text": [
      "Actual sale price: 215000\n",
      "Predicted sale price using random slopes: 374286.06691360136\n"
     ]
    }
   ],
   "source": [
    "print('Actual sale price:', house['sale_price'].iloc[0])\n",
    "print('Predicted sale price using random slopes:', predict(example_slopes, example_row))"
   ]
  },
  {
   "cell_type": "markdown",
   "metadata": {},
   "source": [
    "The result is an estimated sale price, which can be compared to the actual sale price to assess whether the slopes provide accurate predictions. Since the example_slopes above were chosen at random, we should not expect them to provide accurate predictions at all."
   ]
  },
  {
   "cell_type": "markdown",
   "metadata": {},
   "source": [
    "### 2. Least square regressions\n",
    "\n",
    "The next step in performing multiple regression is to define the least squares objective. We perform the prediction for each row in the training set, and then compute the root mean squared error (RMSE) of the predictions from the actual prices."
   ]
  },
  {
   "cell_type": "code",
   "execution_count": 10,
   "metadata": {},
   "outputs": [
    {
     "data": {
      "text/plain": [
       "89087.32460321065"
      ]
     },
     "execution_count": 10,
     "metadata": {},
     "output_type": "execute_result"
    }
   ],
   "source": [
    "# Assuming 'training_set' is your training DataFrame\n",
    "train_prices = training_set['sale_price'].values\n",
    "train_attributes = training_set.drop(['sale_price'], axis=1)\n",
    "\n",
    "train_attributes_filled = train_attributes.fillna(train_attributes.mean())\n",
    "\n",
    "# Ensure example_slopes matches the number of remaining attributes\n",
    "example_slopes = np.random.normal(10, 1, len(train_attributes.columns))\n",
    "\n",
    "def predict(slopes, row):\n",
    "    return sum(slopes * np.array(row))\n",
    "\n",
    "def rmse(slopes, attributes, prices):\n",
    "    errors = [(predict(slopes, attributes.iloc[i, :]) - prices[i]) ** 2 for i in range(len(prices))]\n",
    "    return np.sqrt(np.mean(errors))\n",
    "\n",
    "def rmse_train(slopes):\n",
    "    return rmse(slopes, train_attributes_filled, train_prices)\n",
    "\n",
    "rmse_train(example_slopes)"
   ]
  },
  {
   "cell_type": "markdown",
   "metadata": {},
   "source": [
    "Finally, we use the minimize function to find the slopes with the lowest RMSE. Since the function we want to minimize, rmse_train, takes an array instead of a number, we must pass the array=True argument to minimize. When this argument is used, minimize also requires an initial guess of the slopes so that it knows the dimension of the input array. Finally, to speed up optimization, we indicate that rmse_train is a smooth function using the smooth=True attribute. Computation of the best slopes may take several minutes."
   ]
  },
  {
   "cell_type": "code",
   "execution_count": 11,
   "metadata": {},
   "outputs": [
    {
     "name": "stdout",
     "output_type": "stream",
     "text": [
      "The best slopes for the training set:\n",
      "1st_flr\t66.81014125551881\n",
      "2nd_flr\t65.5419655100946\n",
      "bsmt\t29.030078327882073\n",
      "garage\t58.75061686291079\n",
      "wood_deck\t49.2644691605095\n",
      "open_porch\t21.072327502542507\n",
      "lot\t0.5483520154972276\n",
      "year_built\t732.6400176420666\n",
      "year_sold\t-713.8968896496317\n",
      "RMSE of all training examples using the best slopes: 42441.05549506805\n"
     ]
    }
   ],
   "source": [
    "from scipy.optimize import minimize\n",
    "\n",
    "# Set bounds for the slopes, if needed\n",
    "bounds = [(None, None)] * len(example_slopes)\n",
    "\n",
    "# Use minimize to find the best slopes\n",
    "best_slopes = minimize(rmse_train, x0=example_slopes, bounds=bounds)['x']\n",
    "\n",
    "# Display the best slopes\n",
    "print('The best slopes for the training set:')\n",
    "for label, slope in zip(train_attributes.columns, best_slopes):\n",
    "    print(f'{label}\\t{slope}')\n",
    "\n",
    "# Calculate and display the RMSE using the best slopes\n",
    "best_rmse = rmse_train(best_slopes)\n",
    "print('RMSE of all training examples using the best slopes:', best_rmse)"
   ]
  },
  {
   "cell_type": "markdown",
   "metadata": {},
   "source": [
    "### 3. Existing package"
   ]
  },
  {
   "cell_type": "code",
   "execution_count": 12,
   "metadata": {},
   "outputs": [
    {
     "data": {
      "text/html": [
       "<table class=\"simpletable\">\n",
       "<caption>OLS Regression Results</caption>\n",
       "<tr>\n",
       "  <th>Dep. Variable:</th>       <td>sale_price</td>    <th>  R-squared:         </th> <td>   0.737</td> \n",
       "</tr>\n",
       "<tr>\n",
       "  <th>Model:</th>                   <td>OLS</td>       <th>  Adj. R-squared:    </th> <td>   0.736</td> \n",
       "</tr>\n",
       "<tr>\n",
       "  <th>Method:</th>             <td>Least Squares</td>  <th>  F-statistic:       </th> <td>   907.6</td> \n",
       "</tr>\n",
       "<tr>\n",
       "  <th>Date:</th>             <td>Mon, 08 Jan 2024</td> <th>  Prob (F-statistic):</th>  <td>  0.00</td>  \n",
       "</tr>\n",
       "<tr>\n",
       "  <th>Time:</th>                 <td>15:37:58</td>     <th>  Log-Likelihood:    </th> <td> -35252.</td> \n",
       "</tr>\n",
       "<tr>\n",
       "  <th>No. Observations:</th>      <td>  2928</td>      <th>  AIC:               </th> <td>7.052e+04</td>\n",
       "</tr>\n",
       "<tr>\n",
       "  <th>Df Residuals:</th>          <td>  2918</td>      <th>  BIC:               </th> <td>7.058e+04</td>\n",
       "</tr>\n",
       "<tr>\n",
       "  <th>Df Model:</th>              <td>     9</td>      <th>                     </th>     <td> </td>    \n",
       "</tr>\n",
       "<tr>\n",
       "  <th>Covariance Type:</th>      <td>nonrobust</td>    <th>                     </th>     <td> </td>    \n",
       "</tr>\n",
       "</table>\n",
       "<table class=\"simpletable\">\n",
       "<tr>\n",
       "        <td></td>          <th>coef</th>     <th>std err</th>      <th>t</th>      <th>P>|t|</th>  <th>[0.025</th>    <th>0.975]</th>  \n",
       "</tr>\n",
       "<tr>\n",
       "  <th>Intercept</th>    <td>-1.184e+05</td> <td> 1.16e+06</td> <td>   -0.102</td> <td> 0.919</td> <td>-2.39e+06</td> <td> 2.16e+06</td>\n",
       "</tr>\n",
       "<tr>\n",
       "  <th>Q(\"1st_flr\")</th> <td>   71.8469</td> <td>    3.497</td> <td>   20.546</td> <td> 0.000</td> <td>   64.990</td> <td>   78.703</td>\n",
       "</tr>\n",
       "<tr>\n",
       "  <th>Q(\"2nd_flr\")</th> <td>   68.3078</td> <td>    2.006</td> <td>   34.053</td> <td> 0.000</td> <td>   64.375</td> <td>   72.241</td>\n",
       "</tr>\n",
       "<tr>\n",
       "  <th>bsmt</th>         <td>   38.6885</td> <td>    3.018</td> <td>   12.818</td> <td> 0.000</td> <td>   32.770</td> <td>   44.607</td>\n",
       "</tr>\n",
       "<tr>\n",
       "  <th>garage</th>       <td>   62.7917</td> <td>    4.631</td> <td>   13.559</td> <td> 0.000</td> <td>   53.711</td> <td>   71.872</td>\n",
       "</tr>\n",
       "<tr>\n",
       "  <th>wood_deck</th>    <td>   38.5272</td> <td>    6.378</td> <td>    6.041</td> <td> 0.000</td> <td>   26.022</td> <td>   51.033</td>\n",
       "</tr>\n",
       "<tr>\n",
       "  <th>open_porch</th>   <td>   14.9671</td> <td>   12.141</td> <td>    1.233</td> <td> 0.218</td> <td>   -8.839</td> <td>   38.773</td>\n",
       "</tr>\n",
       "<tr>\n",
       "  <th>lot</th>          <td>    0.3054</td> <td>    0.104</td> <td>    2.934</td> <td> 0.003</td> <td>    0.101</td> <td>    0.510</td>\n",
       "</tr>\n",
       "<tr>\n",
       "  <th>year_built</th>   <td>  679.6490</td> <td>   30.102</td> <td>   22.578</td> <td> 0.000</td> <td>  620.626</td> <td>  738.672</td>\n",
       "</tr>\n",
       "<tr>\n",
       "  <th>year_sold</th>    <td> -609.9535</td> <td>  576.727</td> <td>   -1.058</td> <td> 0.290</td> <td>-1740.787</td> <td>  520.880</td>\n",
       "</tr>\n",
       "</table>\n",
       "<table class=\"simpletable\">\n",
       "<tr>\n",
       "  <th>Omnibus:</th>       <td>1242.185</td> <th>  Durbin-Watson:     </th>  <td>   1.454</td> \n",
       "</tr>\n",
       "<tr>\n",
       "  <th>Prob(Omnibus):</th>  <td> 0.000</td>  <th>  Jarque-Bera (JB):  </th> <td>135089.991</td>\n",
       "</tr>\n",
       "<tr>\n",
       "  <th>Skew:</th>           <td>-1.030</td>  <th>  Prob(JB):          </th>  <td>    0.00</td> \n",
       "</tr>\n",
       "<tr>\n",
       "  <th>Kurtosis:</th>       <td>36.212</td>  <th>  Cond. No.          </th>  <td>2.01e+07</td> \n",
       "</tr>\n",
       "</table><br/><br/>Notes:<br/>[1] Standard Errors assume that the covariance matrix of the errors is correctly specified.<br/>[2] The condition number is large, 2.01e+07. This might indicate that there are<br/>strong multicollinearity or other numerical problems."
      ],
      "text/latex": [
       "\\begin{center}\n",
       "\\begin{tabular}{lclc}\n",
       "\\toprule\n",
       "\\textbf{Dep. Variable:}    &   sale\\_price    & \\textbf{  R-squared:         } &     0.737   \\\\\n",
       "\\textbf{Model:}            &       OLS        & \\textbf{  Adj. R-squared:    } &     0.736   \\\\\n",
       "\\textbf{Method:}           &  Least Squares   & \\textbf{  F-statistic:       } &     907.6   \\\\\n",
       "\\textbf{Date:}             & Mon, 08 Jan 2024 & \\textbf{  Prob (F-statistic):} &     0.00    \\\\\n",
       "\\textbf{Time:}             &     15:37:58     & \\textbf{  Log-Likelihood:    } &   -35252.   \\\\\n",
       "\\textbf{No. Observations:} &        2928      & \\textbf{  AIC:               } & 7.052e+04   \\\\\n",
       "\\textbf{Df Residuals:}     &        2918      & \\textbf{  BIC:               } & 7.058e+04   \\\\\n",
       "\\textbf{Df Model:}         &           9      & \\textbf{                     } &             \\\\\n",
       "\\textbf{Covariance Type:}  &    nonrobust     & \\textbf{                     } &             \\\\\n",
       "\\bottomrule\n",
       "\\end{tabular}\n",
       "\\begin{tabular}{lcccccc}\n",
       "                       & \\textbf{coef} & \\textbf{std err} & \\textbf{t} & \\textbf{P$> |$t$|$} & \\textbf{[0.025} & \\textbf{0.975]}  \\\\\n",
       "\\midrule\n",
       "\\textbf{Intercept}     &   -1.184e+05  &     1.16e+06     &    -0.102  &         0.919        &    -2.39e+06    &     2.16e+06     \\\\\n",
       "\\textbf{Q(\"1st\\_flr\")} &      71.8469  &        3.497     &    20.546  &         0.000        &       64.990    &       78.703     \\\\\n",
       "\\textbf{Q(\"2nd\\_flr\")} &      68.3078  &        2.006     &    34.053  &         0.000        &       64.375    &       72.241     \\\\\n",
       "\\textbf{bsmt}          &      38.6885  &        3.018     &    12.818  &         0.000        &       32.770    &       44.607     \\\\\n",
       "\\textbf{garage}        &      62.7917  &        4.631     &    13.559  &         0.000        &       53.711    &       71.872     \\\\\n",
       "\\textbf{wood\\_deck}    &      38.5272  &        6.378     &     6.041  &         0.000        &       26.022    &       51.033     \\\\\n",
       "\\textbf{open\\_porch}   &      14.9671  &       12.141     &     1.233  &         0.218        &       -8.839    &       38.773     \\\\\n",
       "\\textbf{lot}           &       0.3054  &        0.104     &     2.934  &         0.003        &        0.101    &        0.510     \\\\\n",
       "\\textbf{year\\_built}   &     679.6490  &       30.102     &    22.578  &         0.000        &      620.626    &      738.672     \\\\\n",
       "\\textbf{year\\_sold}    &    -609.9535  &      576.727     &    -1.058  &         0.290        &    -1740.787    &      520.880     \\\\\n",
       "\\bottomrule\n",
       "\\end{tabular}\n",
       "\\begin{tabular}{lclc}\n",
       "\\textbf{Omnibus:}       & 1242.185 & \\textbf{  Durbin-Watson:     } &     1.454   \\\\\n",
       "\\textbf{Prob(Omnibus):} &   0.000  & \\textbf{  Jarque-Bera (JB):  } & 135089.991  \\\\\n",
       "\\textbf{Skew:}          &  -1.030  & \\textbf{  Prob(JB):          } &      0.00   \\\\\n",
       "\\textbf{Kurtosis:}      &  36.212  & \\textbf{  Cond. No.          } &  2.01e+07   \\\\\n",
       "\\bottomrule\n",
       "\\end{tabular}\n",
       "%\\caption{OLS Regression Results}\n",
       "\\end{center}\n",
       "\n",
       "Notes: \\newline\n",
       " [1] Standard Errors assume that the covariance matrix of the errors is correctly specified. \\newline\n",
       " [2] The condition number is large, 2.01e+07. This might indicate that there are \\newline\n",
       " strong multicollinearity or other numerical problems."
      ],
      "text/plain": [
       "<class 'statsmodels.iolib.summary.Summary'>\n",
       "\"\"\"\n",
       "                            OLS Regression Results                            \n",
       "==============================================================================\n",
       "Dep. Variable:             sale_price   R-squared:                       0.737\n",
       "Model:                            OLS   Adj. R-squared:                  0.736\n",
       "Method:                 Least Squares   F-statistic:                     907.6\n",
       "Date:                Mon, 08 Jan 2024   Prob (F-statistic):               0.00\n",
       "Time:                        15:37:58   Log-Likelihood:                -35252.\n",
       "No. Observations:                2928   AIC:                         7.052e+04\n",
       "Df Residuals:                    2918   BIC:                         7.058e+04\n",
       "Df Model:                           9                                         \n",
       "Covariance Type:            nonrobust                                         \n",
       "================================================================================\n",
       "                   coef    std err          t      P>|t|      [0.025      0.975]\n",
       "--------------------------------------------------------------------------------\n",
       "Intercept    -1.184e+05   1.16e+06     -0.102      0.919   -2.39e+06    2.16e+06\n",
       "Q(\"1st_flr\")    71.8469      3.497     20.546      0.000      64.990      78.703\n",
       "Q(\"2nd_flr\")    68.3078      2.006     34.053      0.000      64.375      72.241\n",
       "bsmt            38.6885      3.018     12.818      0.000      32.770      44.607\n",
       "garage          62.7917      4.631     13.559      0.000      53.711      71.872\n",
       "wood_deck       38.5272      6.378      6.041      0.000      26.022      51.033\n",
       "open_porch      14.9671     12.141      1.233      0.218      -8.839      38.773\n",
       "lot              0.3054      0.104      2.934      0.003       0.101       0.510\n",
       "year_built     679.6490     30.102     22.578      0.000     620.626     738.672\n",
       "year_sold     -609.9535    576.727     -1.058      0.290   -1740.787     520.880\n",
       "==============================================================================\n",
       "Omnibus:                     1242.185   Durbin-Watson:                   1.454\n",
       "Prob(Omnibus):                  0.000   Jarque-Bera (JB):           135089.991\n",
       "Skew:                          -1.030   Prob(JB):                         0.00\n",
       "Kurtosis:                      36.212   Cond. No.                     2.01e+07\n",
       "==============================================================================\n",
       "\n",
       "Notes:\n",
       "[1] Standard Errors assume that the covariance matrix of the errors is correctly specified.\n",
       "[2] The condition number is large, 2.01e+07. This might indicate that there are\n",
       "strong multicollinearity or other numerical problems.\n",
       "\"\"\""
      ]
     },
     "execution_count": 12,
     "metadata": {},
     "output_type": "execute_result"
    }
   ],
   "source": [
    "model = 'sale_price ~ Q(\"1st_flr\") + Q(\"2nd_flr\") + bsmt + garage + wood_deck + open_porch + lot + year_built + year_sold'\n",
    "regression = smf.ols(formula = model, data = house).fit()\n",
    "regression.summary()"
   ]
  }
 ],
 "metadata": {
  "kernelspec": {
   "display_name": "Python 3",
   "language": "python",
   "name": "python3"
  },
  "language_info": {
   "codemirror_mode": {
    "name": "ipython",
    "version": 3
   },
   "file_extension": ".py",
   "mimetype": "text/x-python",
   "name": "python",
   "nbconvert_exporter": "python",
   "pygments_lexer": "ipython3",
   "version": "3.12.1"
  }
 },
 "nbformat": 4,
 "nbformat_minor": 2
}
