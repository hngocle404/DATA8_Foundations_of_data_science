{
 "cells": [
  {
   "cell_type": "markdown",
   "metadata": {},
   "source": [
    "# Total Variation Distance Simulation\n",
    "\n",
    "This task involves assessing the representativeness of jury panels in Alameda County, California, focusing on multiple racial and ethnic categories. The analysis uses data from the ACLU report on jury selection in 2010 and aim to determine whether the observed panels adequately represent the eligible population.\n",
    "\n",
    "**Objective**\n",
    "\n",
    "Evaluate the representativeness of jury panels by comparing the ethnic distribution with a simulated random sample.\n",
    "\n",
    "**Methodology**\n",
    "\n",
    "* Data Source: Utilising data from the ACLU report on 11 felony trials in 2009-2010.\n",
    "\n",
    "* Metric: Introducing a novel metric, Total Variation Distance (TVD), to quantify the disparity between observed panels and a simulated random sample.\n",
    "\n",
    "**Key Findings**\n",
    "* The observed distribution of panelists significantly deviates from expectations under random selection.\n",
    "* TVD simulations indicate a consistent pattern, with observed distances exceeding those expected in a random scenario.\n",
    "\n",
    "**Link**: https://inferentialthinking.com/chapters/11/2/Multiple_Categories.html"
   ]
  },
  {
   "cell_type": "code",
   "execution_count": 1,
   "metadata": {},
   "outputs": [],
   "source": [
    "# Importing necessary packages\n",
    "import pandas as pd\n",
    "import numpy as np\n",
    "import seaborn as sns\n",
    "import matplotlib.pyplot as plt\n",
    "from IPython.display import display"
   ]
  },
  {
   "cell_type": "markdown",
   "metadata": {},
   "source": [
    "### 1. Original data sample"
   ]
  },
  {
   "cell_type": "code",
   "execution_count": 4,
   "metadata": {},
   "outputs": [
    {
     "data": {
      "text/html": [
       "<div>\n",
       "<style scoped>\n",
       "    .dataframe tbody tr th:only-of-type {\n",
       "        vertical-align: middle;\n",
       "    }\n",
       "\n",
       "    .dataframe tbody tr th {\n",
       "        vertical-align: top;\n",
       "    }\n",
       "\n",
       "    .dataframe thead th {\n",
       "        text-align: right;\n",
       "    }\n",
       "</style>\n",
       "<table border=\"1\" class=\"dataframe\">\n",
       "  <thead>\n",
       "    <tr style=\"text-align: right;\">\n",
       "      <th></th>\n",
       "      <th>Ethnicity</th>\n",
       "      <th>Eligible</th>\n",
       "      <th>Panels</th>\n",
       "    </tr>\n",
       "  </thead>\n",
       "  <tbody>\n",
       "    <tr>\n",
       "      <th>0</th>\n",
       "      <td>Asian/PI</td>\n",
       "      <td>0.15</td>\n",
       "      <td>0.26</td>\n",
       "    </tr>\n",
       "    <tr>\n",
       "      <th>1</th>\n",
       "      <td>Black/AA</td>\n",
       "      <td>0.18</td>\n",
       "      <td>0.08</td>\n",
       "    </tr>\n",
       "    <tr>\n",
       "      <th>2</th>\n",
       "      <td>Caucasian</td>\n",
       "      <td>0.54</td>\n",
       "      <td>0.54</td>\n",
       "    </tr>\n",
       "    <tr>\n",
       "      <th>3</th>\n",
       "      <td>Hispanic</td>\n",
       "      <td>0.12</td>\n",
       "      <td>0.08</td>\n",
       "    </tr>\n",
       "    <tr>\n",
       "      <th>4</th>\n",
       "      <td>Other</td>\n",
       "      <td>0.01</td>\n",
       "      <td>0.04</td>\n",
       "    </tr>\n",
       "  </tbody>\n",
       "</table>\n",
       "</div>"
      ],
      "text/plain": [
       "   Ethnicity  Eligible  Panels\n",
       "0   Asian/PI      0.15    0.26\n",
       "1   Black/AA      0.18    0.08\n",
       "2  Caucasian      0.54    0.54\n",
       "3   Hispanic      0.12    0.08\n",
       "4      Other      0.01    0.04"
      ]
     },
     "execution_count": 4,
     "metadata": {},
     "output_type": "execute_result"
    }
   ],
   "source": [
    "# Original sample\n",
    "jury = pd.DataFrame({\n",
    "    'Ethnicity': ['Asian/PI', 'Black/AA', 'Caucasian', 'Hispanic', 'Other'],\n",
    "    'Eligible': [0.15, 0.18, 0.54, 0.12, 0.01],\n",
    "    'Panels': [0.26, 0.08, 0.54, 0.08, 0.04]\n",
    "    })\n",
    "\n",
    "jury"
   ]
  },
  {
   "cell_type": "code",
   "execution_count": 6,
   "metadata": {},
   "outputs": [
    {
     "data": {
      "text/plain": [
       "<Axes: xlabel='Percentage', ylabel='Ethnicity'>"
      ]
     },
     "execution_count": 6,
     "metadata": {},
     "output_type": "execute_result"
    },
    {
     "data": {
      "image/png": "[encoded data removed]",
      "text/plain": [
       "<Figure size 640x480 with 1 Axes>"
      ]
     },
     "metadata": {},
     "output_type": "display_data"
    }
   ],
   "source": [
    "# Converting data to long form\n",
    "melted_jury = pd.melt(jury, id_vars='Ethnicity', var_name='Category', value_name='Percentage')\n",
    "\n",
    "# Plot\n",
    "sns.set_style('dark')\n",
    "sns.set_palette('rocket')\n",
    "sns.barplot(x='Percentage', y='Ethnicity', hue = 'Category', data=melted_jury)"
   ]
  },
  {
   "cell_type": "markdown",
   "metadata": {},
   "source": [
    "### 2. Random sample from the distribution of eligible jurors (n = 1453)"
   ]
  },
  {
   "cell_type": "code",
   "execution_count": 7,
   "metadata": {},
   "outputs": [
    {
     "data": {
      "text/html": [
       "<div>\n",
       "<style scoped>\n",
       "    .dataframe tbody tr th:only-of-type {\n",
       "        vertical-align: middle;\n",
       "    }\n",
       "\n",
       "    .dataframe tbody tr th {\n",
       "        vertical-align: top;\n",
       "    }\n",
       "\n",
       "    .dataframe thead th {\n",
       "        text-align: right;\n",
       "    }\n",
       "</style>\n",
       "<table border=\"1\" class=\"dataframe\">\n",
       "  <thead>\n",
       "    <tr style=\"text-align: right;\">\n",
       "      <th></th>\n",
       "      <th>Ethnicity</th>\n",
       "      <th>Eligible</th>\n",
       "      <th>Panels</th>\n",
       "      <th>Random sample</th>\n",
       "    </tr>\n",
       "  </thead>\n",
       "  <tbody>\n",
       "    <tr>\n",
       "      <th>0</th>\n",
       "      <td>Asian/PI</td>\n",
       "      <td>0.15</td>\n",
       "      <td>0.26</td>\n",
       "      <td>0.149346</td>\n",
       "    </tr>\n",
       "    <tr>\n",
       "      <th>1</th>\n",
       "      <td>Black/AA</td>\n",
       "      <td>0.18</td>\n",
       "      <td>0.08</td>\n",
       "      <td>0.172058</td>\n",
       "    </tr>\n",
       "    <tr>\n",
       "      <th>2</th>\n",
       "      <td>Caucasian</td>\n",
       "      <td>0.54</td>\n",
       "      <td>0.54</td>\n",
       "      <td>0.556779</td>\n",
       "    </tr>\n",
       "    <tr>\n",
       "      <th>3</th>\n",
       "      <td>Hispanic</td>\n",
       "      <td>0.12</td>\n",
       "      <td>0.08</td>\n",
       "      <td>0.115623</td>\n",
       "    </tr>\n",
       "    <tr>\n",
       "      <th>4</th>\n",
       "      <td>Other</td>\n",
       "      <td>0.01</td>\n",
       "      <td>0.04</td>\n",
       "      <td>0.006194</td>\n",
       "    </tr>\n",
       "  </tbody>\n",
       "</table>\n",
       "</div>"
      ],
      "text/plain": [
       "   Ethnicity  Eligible  Panels  Random sample\n",
       "0   Asian/PI      0.15    0.26       0.149346\n",
       "1   Black/AA      0.18    0.08       0.172058\n",
       "2  Caucasian      0.54    0.54       0.556779\n",
       "3   Hispanic      0.12    0.08       0.115623\n",
       "4      Other      0.01    0.04       0.006194"
      ]
     },
     "metadata": {},
     "output_type": "display_data"
    },
    {
     "data": {
      "text/plain": [
       "<Axes: xlabel='Percentage', ylabel='Ethnicity'>"
      ]
     },
     "execution_count": 7,
     "metadata": {},
     "output_type": "execute_result"
    },
    {
     "data": {
      "image/png": "[encoded data removed]",
      "text/plain": [
       "<Figure size 640x480 with 1 Axes>"
      ]
     },
     "metadata": {},
     "output_type": "display_data"
    }
   ],
   "source": [
    "n = 1453\n",
    "\n",
    "# Random sampling\n",
    "random_sample = np.random.multinomial(1453, jury['Eligible']) / n\n",
    "jury['Random sample'] = random_sample\n",
    "display(jury)\n",
    "\n",
    "# Plot\n",
    "sns.barplot(x='Percentage', y='Ethnicity',\n",
    "    hue = 'Category', palette = 'rocket',\n",
    "    data = melted_jury)"
   ]
  },
  {
   "cell_type": "markdown",
   "metadata": {},
   "source": [
    "*Note: sample with replacement*\n",
    "\n",
    "The bar chart shows that the distribution of the random sample resembles the eligible population but the distribution of the panels does not."
   ]
  },
  {
   "cell_type": "markdown",
   "metadata": {},
   "source": [
    "### 3. TVD simulation \n",
    "To assess whether this observation is particular to one random sample or more general, we can simulate multiple panels under the model of random selection and see what the simulations predict. But we won’t be able to look at thousands of bar charts like the one above. We need a statistic that will help us assess whether or not the model or random selection is supported by the data -> TVD. \n",
    "\n",
    "> **Total Variation Distance (TVD)** is a statistical metric used to quantify the dissimilarity between two probability distributions. In the context of this analysis, it measures how different the distribution of ethnicities among eligible jurors is from the distribution observed in the jury panels."
   ]
  },
  {
   "cell_type": "code",
   "execution_count": 8,
   "metadata": {},
   "outputs": [
    {
     "data": {
      "text/plain": [
       "0.14"
      ]
     },
     "execution_count": 8,
     "metadata": {},
     "output_type": "execute_result"
    }
   ],
   "source": [
    "# TVD - 1 simulation\n",
    "def tvd (dist1, dist2):\n",
    "    \"\"\" Calculate the total variation distribution of 2 distributions \"\"\"\n",
    "    return sum(np.abs(dist1 - dist2)) / 2\n",
    "\n",
    "# We wanna compute the TVD between the Eligible and Panel group in the original data sample \n",
    "tvd(jury['Eligible'], jury['Panels'])"
   ]
  },
  {
   "cell_type": "code",
   "execution_count": 12,
   "metadata": {},
   "outputs": [
    {
     "data": {
      "text/html": [
       "<div>\n",
       "<style scoped>\n",
       "    .dataframe tbody tr th:only-of-type {\n",
       "        vertical-align: middle;\n",
       "    }\n",
       "\n",
       "    .dataframe tbody tr th {\n",
       "        vertical-align: top;\n",
       "    }\n",
       "\n",
       "    .dataframe thead th {\n",
       "        text-align: right;\n",
       "    }\n",
       "</style>\n",
       "<table border=\"1\" class=\"dataframe\">\n",
       "  <thead>\n",
       "    <tr style=\"text-align: right;\">\n",
       "      <th></th>\n",
       "      <th>Simulation</th>\n",
       "      <th>TVD</th>\n",
       "    </tr>\n",
       "  </thead>\n",
       "  <tbody>\n",
       "    <tr>\n",
       "      <th>0</th>\n",
       "      <td>1</td>\n",
       "      <td>0.022973</td>\n",
       "    </tr>\n",
       "    <tr>\n",
       "      <th>1</th>\n",
       "      <td>2</td>\n",
       "      <td>0.026511</td>\n",
       "    </tr>\n",
       "    <tr>\n",
       "      <th>2</th>\n",
       "      <td>3</td>\n",
       "      <td>0.025203</td>\n",
       "    </tr>\n",
       "    <tr>\n",
       "      <th>3</th>\n",
       "      <td>4</td>\n",
       "      <td>0.026222</td>\n",
       "    </tr>\n",
       "    <tr>\n",
       "      <th>4</th>\n",
       "      <td>5</td>\n",
       "      <td>0.013008</td>\n",
       "    </tr>\n",
       "  </tbody>\n",
       "</table>\n",
       "</div>"
      ],
      "text/plain": [
       "   Simulation       TVD\n",
       "0           1  0.022973\n",
       "1           2  0.026511\n",
       "2           3  0.025203\n",
       "3           4  0.026222\n",
       "4           5  0.013008"
      ]
     },
     "metadata": {},
     "output_type": "display_data"
    },
    {
     "data": {
      "text/plain": [
       "<matplotlib.lines.Line2D at 0x246965c0590>"
      ]
     },
     "execution_count": 12,
     "metadata": {},
     "output_type": "execute_result"
    },
    {
     "data": {
      "image/png": "[encoded data removed]",
      "text/plain": [
       "<Figure size 640x480 with 1 Axes>"
      ]
     },
     "metadata": {},
     "output_type": "display_data"
    }
   ],
   "source": [
    "# TVD - n simulations\n",
    "\n",
    "def tvd_simulation ():\n",
    "    \"\"\" Generate the TVD for 2 distributions n times \"\"\"\n",
    "    data = [] # Dis initialisation has to be OUTSIDE of the loop \n",
    "    for i in range(1, rep + 1):\n",
    "        random_sample = np.random.multinomial(1453, jury['Eligible']) / n\n",
    "        tvd_result = tvd(random_sample, jury['Eligible'])\n",
    "        data.append({\n",
    "            'Simulation': i,\n",
    "            'TVD': tvd_result\n",
    "        })\n",
    "    tvd_simulation_results = pd.DataFrame(data)\n",
    "    return tvd_simulation_results\n",
    "\n",
    "rep = int(input(\"Enter the number of simulation: \"))\n",
    "\n",
    "tvd_simulation_results = tvd_simulation()\n",
    "display(tvd_simulation_results.head(5))\n",
    "\n",
    "# Plot\n",
    "sns.histplot(data = tvd_simulation_results,\n",
    "    x = 'TVD',\n",
    "    bins = 10)\n",
    "plt.axvline(x=0.14, color='darkred', linestyle='-', linewidth=1)"
   ]
  },
  {
   "cell_type": "markdown",
   "metadata": {},
   "source": [
    "The panels in the study, however, were not quite so similar to the eligible population. The total variation distance between the panels and the population was 0.14, shown by the red line on the horizontal axis. It is far beyond the tail of the histogram and does not look at all like a typical distance between the distributions of a random sample and the eligible population.\n",
    "\n",
    "**Conclusion**: The simulation shows that the composition of the panels in the ACLU study is not consistent with the model of random selection. Our analysis supports the ACLU’s conclusion that the panels were not representative of the distribution provided for the eligible jurors."
   ]
  }
 ],
 "metadata": {
  "kernelspec": {
   "display_name": "Python 3",
   "language": "python",
   "name": "python3"
  },
  "language_info": {
   "codemirror_mode": {
    "name": "ipython",
    "version": 3
   },
   "file_extension": ".py",
   "mimetype": "text/x-python",
   "name": "python",
   "nbconvert_exporter": "python",
   "pygments_lexer": "ipython3",
   "version": "3.12.1"
  }
 },
 "nbformat": 4,
 "nbformat_minor": 2
}
